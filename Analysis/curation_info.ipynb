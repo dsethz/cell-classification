{
 "cells": [
  {
   "cell_type": "markdown",
   "metadata": {},
   "source": [
    "## Will be used for presentation to give graphics, stats, etc."
   ]
  },
  {
   "cell_type": "code",
   "execution_count": 1,
   "metadata": {},
   "outputs": [],
   "source": [
    "import os\n",
    "import numpy as np\n",
    "import pickle\n",
    "import matplotlib.pyplot as plt\n",
    "import argparse\n",
    "import tifffile\n",
    "from tqdm import tqdm\n",
    "import random"
   ]
  },
  {
   "cell_type": "code",
   "execution_count": 19,
   "metadata": {},
   "outputs": [
    {
     "name": "stdout",
     "output_type": "stream",
     "text": [
      "Random: dict_keys(['Hoxb5mCherry_LPS_1h_DAPI_mCherry_CD41_Sca-1_Il1betaPLA_C00_cp.tif', 'c0_0-68_1000-2400_3100-4500_cp.tif', 'c0_0-68_950-2050_1200-2300_cp.tif'])\n",
      "Curated: dict_keys(['Hoxb5mCherry_LPS_1h_DAPI_mCherry_CD41_Sca-1_Il1betaPLA_C00_cp.tif', 'c0_0-55_1950-4500_11550-14862_cp_masks_comb.tif', 'c0_0-68_1000-2400_3100-4500_cp_curated.tif', 'c0_0-68_950-2050_1200-2300_cp_curated.tif'])\n",
      "Match: Hoxb5mCherry_LPS_1h_DAPI_mCherry_CD41_Sca-1_Il1betaPLA_C00_cp.tif Hoxb5mCherry_LPS_1h_DAPI_mCherry_CD41_Sca-1_Il1betaPLA_C00_cp.tif\n"
     ]
    },
    {
     "ename": "KeyboardInterrupt",
     "evalue": "",
     "output_type": "error",
     "traceback": [
      "\u001b[0;31m---------------------------------------------------------------------------\u001b[0m",
      "\u001b[0;31mKeyboardInterrupt\u001b[0m                         Traceback (most recent call last)",
      "Cell \u001b[0;32mIn[19], line 55\u001b[0m\n\u001b[1;32m     53\u001b[0m \u001b[38;5;28;01mfor\u001b[39;00m mask_id \u001b[38;5;129;01min\u001b[39;00m \u001b[38;5;28mrange\u001b[39m(\u001b[38;5;241m1\u001b[39m, np\u001b[38;5;241m.\u001b[39mmax(curated_mask) \u001b[38;5;241m+\u001b[39m \u001b[38;5;241m1\u001b[39m):\n\u001b[1;32m     54\u001b[0m     \u001b[38;5;28;01mif\u001b[39;00m mask_id \u001b[38;5;129;01mnot\u001b[39;00m \u001b[38;5;129;01min\u001b[39;00m random_mask \u001b[38;5;129;01mand\u001b[39;00m mask_id \u001b[38;5;129;01mnot\u001b[39;00m \u001b[38;5;129;01min\u001b[39;00m curated_mask:\n\u001b[0;32m---> 55\u001b[0m         \u001b[38;5;28;01mcontinue\u001b[39;00m\n\u001b[1;32m     56\u001b[0m     \u001b[38;5;28;01mtry\u001b[39;00m:\n\u001b[1;32m     57\u001b[0m         random_mask_id \u001b[38;5;241m=\u001b[39m random_mask[mask_id]\n",
      "\u001b[0;31mKeyboardInterrupt\u001b[0m: "
     ]
    }
   ],
   "source": [
    "# Data are stored in 2 folders, one after randomly subsampling and the other after curating the data\n",
    "\n",
    "# Dir with randomly subsampled data\n",
    "random_dir = '/Users/agreic/Desktop/Project/Data/Raw/Segmentation/curated_masks/neg_subset_and_mega'\n",
    "\n",
    "# Dir with curated data\n",
    "curated_dir = '/Users/agreic/Desktop/Project/Data/Raw/5_Curated_Filtered'\n",
    "\n",
    "random_imgs = {}\n",
    "curated_imgs = {}\n",
    "for file in os.listdir(random_dir):\n",
    "    if file.endswith('.tif'):\n",
    "        img = tifffile.imread(os.path.join(random_dir, file))\n",
    "        random_imgs[file] = img\n",
    "for file in os.listdir(curated_dir):\n",
    "    if file.endswith('.tif'):\n",
    "        img = tifffile.imread(os.path.join(curated_dir, file))\n",
    "        curated_imgs[file] = img\n",
    "# Sort\n",
    "random_imgs = dict(sorted(random_imgs.items()))\n",
    "curated_imgs = dict(sorted(curated_imgs.items()))\n",
    "print('Random:', random_imgs.keys())\n",
    "print('Curated:', curated_imgs.keys())\n",
    "\n",
    "# Match random and curated images based on the name similarity\n",
    "random_counter = {}\n",
    "curated_counter = {}\n",
    "non_curated_counter = {}\n",
    "non_matching_ids = {}\n",
    "\n",
    "for random_img in random_imgs:\n",
    "    for curated_img in curated_imgs:\n",
    "        # If there are more than 3 similar substrings spaced by _ in the name, consider them the same\n",
    "        \n",
    "        if len(set(random_img.split('_')).intersection(set(curated_img.split('_')))) > 2:\n",
    "\n",
    "            random_counter[random_img] = 0\n",
    "            curated_counter[random_img] = 0\n",
    "            non_curated_counter[random_img] = 0\n",
    "            non_matching_ids[random_img] = []\n",
    "            # For each mask in the pair, check if the curated and random masks are the same, if not, add to counter\n",
    "\n",
    "            print('Match:', random_img, curated_img)\n",
    "\n",
    "            random_mask = random_imgs[random_img]\n",
    "            curated_mask = curated_imgs[curated_img]\n",
    "            # Check if mask shapes are the same\n",
    "            if random_mask.shape != curated_mask.shape:\n",
    "                print('Shapes do not match')\n",
    "                continue\n",
    "\n",
    "            # For mask_id in the mask, check if the masks are the same\n",
    "            for mask_id in range(1, np.max(curated_mask) + 1):\n",
    "                if mask_id not in random_mask and mask_id not in curated_mask:\n",
    "                    continue\n",
    "                try:\n",
    "                    random_mask_id = random_mask[mask_id]\n",
    "                    curated_mask_id = curated_mask[mask_id]\n",
    "\n",
    "                    if not np.array_equal(random_mask_id, curated_mask_id):\n",
    "                        curated_counter[random_img] += 1\n",
    "                    else:\n",
    "                        non_curated_counter[random_img] += 1\n",
    "\n",
    "                    non_matching_ids[random_img].append(mask_id)\n",
    "                except IndexError:\n",
    "                    curated_counter[random_img] += 1\n",
    "                    non_matching_ids[random_img].append(mask_id)\n"
   ]
  },
  {
   "cell_type": "code",
   "execution_count": 20,
   "metadata": {},
   "outputs": [
    {
     "data": {
      "text/plain": [
       "{'Hoxb5mCherry_LPS_1h_DAPI_mCherry_CD41_Sca-1_Il1betaPLA_C00_cp.tif': 255}"
      ]
     },
     "execution_count": 20,
     "metadata": {},
     "output_type": "execute_result"
    }
   ],
   "source": [
    "curated_counter"
   ]
  },
  {
   "cell_type": "code",
   "execution_count": null,
   "metadata": {},
   "outputs": [],
   "source": []
  }
 ],
 "metadata": {
  "kernelspec": {
   "display_name": "napari_image_main",
   "language": "python",
   "name": "python3"
  },
  "language_info": {
   "codemirror_mode": {
    "name": "ipython",
    "version": 3
   },
   "file_extension": ".py",
   "mimetype": "text/x-python",
   "name": "python",
   "nbconvert_exporter": "python",
   "pygments_lexer": "ipython3",
   "version": "3.12.2"
  }
 },
 "nbformat": 4,
 "nbformat_minor": 2
}
